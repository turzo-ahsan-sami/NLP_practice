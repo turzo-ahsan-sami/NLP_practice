{
 "cells": [
  {
   "cell_type": "markdown",
   "metadata": {},
   "source": [
    "# Evaluation \n",
    "\n",
    "The goal of this session is to wrap up the current approach and to evaluate it. I felt like I could make some improvements with it before I move on to another approach. \n",
    "\n",
    "1. Will look for some low hanging fruits.\n",
    "2. Will try to understand the shortcommings of the final version.\n",
    "3. Will evaluate current approach with metrics."
   ]
  },
  {
   "cell_type": "markdown",
   "metadata": {},
   "source": [
    "##### Data \n",
    "\n",
    "Gotta load it in first. Remember that you can find this dataset [here](https://www.kaggle.com/stackoverflow/stacksample)."
   ]
  },
  {
   "cell_type": "code",
   "execution_count": 9,
   "metadata": {},
   "outputs": [],
   "source": [
    "import pandas as pd\n",
    "\n",
    "df = (pd.read_csv(\"Questions.csv\", nrows=2_000_000, \n",
    "                  encoding=\"ISO-8859-1\", usecols=['Title', 'Id']))"
   ]
  },
  {
   "cell_type": "markdown",
   "metadata": {},
   "source": [
    "# Approach\n",
    "\n",
    "Here's our `spacy.matcher.Matcher` object."
   ]
  },
  {
   "cell_type": "code",
   "execution_count": 10,
   "metadata": {},
   "outputs": [],
   "source": [
    "import spacy \n",
    "from spacy.matcher import Matcher\n",
    "\n",
    "nlp = spacy.load(\"en_core_web_sm\")"
   ]
  },
  {
   "cell_type": "code",
   "execution_count": 11,
   "metadata": {},
   "outputs": [],
   "source": [
    "obj_c_pattern1 = [{'LOWER': 'objective'},\n",
    "                  {'IS_PUNCT': True, 'OP': '?'},\n",
    "                  {'LOWER': 'c'}]\n",
    "obj_c_pattern2 = [{'LOWER': 'objectivec'}]\n",
    "python_pattern = [{'LOWER': 'python'}]\n",
    "go_pattern1    = [{'LOWER': 'go', 'POS': {'NOT_IN': ['VERB']}}]\n",
    "go_pattern2    = [{'LOWER': 'golang'}]\n",
    "ruby_pattern   = [{'LOWER': 'ruby'}]\n",
    "js_pattern     = [{'LOWER': {'IN': ['js', 'javascript']}}]\n",
    "\n",
    "matcher = Matcher(nlp.vocab, validate=True)\n",
    "matcher.add(\"OBJ_C_LANG\", None, obj_c_pattern1, obj_c_pattern2)\n",
    "matcher.add(\"PYTHON_LANG\", None, python_pattern)\n",
    "matcher.add(\"GO_LANG\", None, go_pattern1, go_pattern2)\n",
    "matcher.add(\"JS_LANG\", None, js_pattern)\n",
    "matcher.add(\"RUBY_LANG\", None, ruby_pattern)"
   ]
  },
  {
   "cell_type": "markdown",
   "metadata": {},
   "source": [
    "Below is a bit of custom code that will highlight the output of the matcher."
   ]
  },
  {
   "cell_type": "code",
   "execution_count": 1,
   "metadata": {},
   "outputs": [],
   "source": [
    "from IPython.display import HTML as html_print\n",
    "\n",
    "def style(s, bold=False):\n",
    "    blob = f\"<text>{s}</text>\"\n",
    "    if bold:\n",
    "        blob = f\"<b style='background-color: #fff59d'>{blob}</b>\"\n",
    "    return blob\n",
    "\n",
    "def html_generator(g, n=10):\n",
    "    blob = \"\"\n",
    "    for i in range(n):\n",
    "        doc = next(g)\n",
    "\n",
    "        state = [[t, False] for t in doc]\n",
    "        for idx, start, end in matcher(doc):\n",
    "            for i in range(start, end):\n",
    "                state[i][1] = True\n",
    "        blob += style(' '.join([style(str(t[0]), bold=t[1]) for t in state]) + '<br>') \n",
    "    return blob"
   ]
  },
  {
   "cell_type": "code",
   "execution_count": 13,
   "metadata": {},
   "outputs": [
    {
     "data": {
      "text/html": [
       "<text><text>How</text> <text>do</text> <text>I</text> <text>run</text> <text>Rake</text> <text>tasks</text> <text>within</text> <text>a</text> <b style='background-color: #fff59d'><text>Ruby</text></b> <text>script</text> <text>?</text><br></text><text><text>How</text> <text>can</text> <text>I</text> <text>create</text> <text>Prototype</text> <text>Methods</text> <text>(</text> <text>like</text> <b style='background-color: #fff59d'><text>JavaScript</text></b> <text>)</text> <text>in</text> <text>C#.Net</text> <text>?</text><br></text><text><text>Some</text> <text>kind</text> <text>of</text> <text>task</text> <text>manager</text> <text>for</text> <b style='background-color: #fff59d'><text>JavaScript</text></b> <text>in</text> <text>Firefox</text> <text>3</text> <text>?</text><br></text><text><text>Best</text> <text>practices</text> <text>for</text> <text>managing</text> <text>and</text> <text>deploying</text> <text>large</text> <b style='background-color: #fff59d'><text>JavaScript</text></b> <text>apps</text><br></text><text><text>Create</text> <text>an</text> <text>encrypted</text> <text>ZIP</text> <text>file</text> <text>in</text> <b style='background-color: #fff59d'><text>Python</text></b><br></text><text><text>Code</text> <text>to</text> <text>ask</text> <text>yes</text> <text>/</text> <text>no</text> <text>question</text> <text>in</text> <b style='background-color: #fff59d'><text>javascript</text></b><br></text><text><text>Executing</text> <b style='background-color: #fff59d'><text>JavaScript</text></b> <text>from</text> <text>Flex</text> <text>:</text> <text>Is</text> <text>this</text> <b style='background-color: #fff59d'><text>javascript</text></b> <text>function</text> <text>dangerous</text> <text>?</text><br></text><text><text>What</text> <b style='background-color: #fff59d'><text>Javascript</text></b> <text>rich</text> <text>text</text> <text>editor</text> <text>will</text> <text>not</text> <text>break</text> <text>the</text> <text>browser</text> <text>'s</text> <text>spellcheck</text> <text>?</text><br></text><text><text>How</text> <text>do</text> <text>I</text> <text>marshal</text> <text>a</text> <text>lambda</text> <text>(</text> <text>Proc</text> <text>)</text> <text>in</text> <b style='background-color: #fff59d'><text>Ruby</text></b> <text>?</text><br></text><text><b style='background-color: #fff59d'><text>Ruby</text></b> <text>Performance</text><br></text>"
      ],
      "text/plain": [
       "<IPython.core.display.HTML object>"
      ]
     },
     "execution_count": 13,
     "metadata": {},
     "output_type": "execute_result"
    }
   ],
   "source": [
    "titles = (_ for _ in df['Title'])\n",
    "g = (d for d in nlp.pipe(titles) if it_matches(d))\n",
    "html_print(html_generator(g, n=10))"
   ]
  },
  {
   "cell_type": "markdown",
   "metadata": {},
   "source": [
    "### Results of Evaluation 1\n",
    "\n",
    "I used this function to quickly loop over a few examples to see when we were doing something right and when we were doing something wrong. \n",
    "\n",
    "By looking at items where nothing is matched we get a gentle reminder of what we should add to the matcher. By repeating this a few times I've been able to add a few languages: **C#**, **F#**, **Perl**, **Sql** and **.NET** as well as a few others."
   ]
  },
  {
   "cell_type": "code",
   "execution_count": 14,
   "metadata": {},
   "outputs": [],
   "source": [
    "import spacy \n",
    "from spacy.matcher import Matcher\n",
    "\n",
    "nlp = spacy.load(\"en_core_web_sm\")"
   ]
  },
  {
   "cell_type": "code",
   "execution_count": 15,
   "metadata": {},
   "outputs": [],
   "source": [
    "obj_c_pattern1 = [{'LOWER': 'objective'},\n",
    "                  {'IS_PUNCT': True, 'OP': '?'},\n",
    "                  {'LOWER': 'c'}]\n",
    "obj_c_pattern2 = [{'LOWER': 'objectivec'}]\n",
    "\n",
    "csharp_pattern1 = [{'LOWER': 'c'}, {'LOWER': '#'}]\n",
    "csharp_pattern2 = [{'LOWER': 'c'}, {'LOWER': 'sharp'}]\n",
    "csharp_pattern3 = [{'LOWER': 'c#'}]\n",
    "\n",
    "fsharp_pattern1 = [{'LOWER': 'f'}, {'LOWER': '#'}]\n",
    "fsharp_pattern2 = [{'LOWER': 'f'}, {'LOWER': 'sharp'}]\n",
    "fsharp_pattern3 = [{'LOWER': 'f#'}]\n",
    " \n",
    "dot_net_pattern = [{'LOWER': '.net'}]\n",
    "\n",
    "php_pattern = [{'LOWER': 'php'}]\n",
    "\n",
    "asp_net_pattern = [{'LOWER': {'IN': ['asp.net', 'asp']}}]\n",
    "\n",
    "python_pattern = [{'LOWER': 'python'}]\n",
    "\n",
    "lisp_pattern1  = [{'LOWER': 'lisp'}]\n",
    "lisp_pattern2  = [{'LOWER': 'common'}, {'LOWER': 'lisp'}]\n",
    "\n",
    "go_pattern1    = [{'LOWER': 'go', 'POS': {'NOT_IN': ['VERB']}}]\n",
    "go_pattern2    = [{'LOWER': 'golang'}]\n",
    "\n",
    "ruby_pattern   = [{'LOWER': 'ruby'}]\n",
    "\n",
    "sql_pattern    = [{'LOWER': 'sql'}]\n",
    "\n",
    "matlab_pattern = [{'LOWER': 'matlab'}]\n",
    "\n",
    "perl_pattern   = [{'LOWER': 'perl'}]\n",
    "\n",
    "html_pattern   = [{'LOWER': 'html'}]\n",
    "\n",
    "css_pattern   = [{'LOWER': 'css'}]\n",
    "\n",
    "js_pattern     = [{'LOWER': {'IN': ['js', 'javascript']}}]\n",
    "\n",
    "java_pattern   = [{'LOWER': 'java'}]\n",
    "\n",
    "c_pattern      = [{'LOWER': 'c'}]\n",
    "\n",
    "cpp_pattern    = [{'LOWER': 'c++'}]\n",
    "\n",
    "matcher = Matcher(nlp.vocab, validate=True)\n",
    "matcher.add(\"OBJ_C_LANG\", None, obj_c_pattern1, obj_c_pattern2)\n",
    "matcher.add(\"PYTHON_LANG\", None, python_pattern)\n",
    "matcher.add(\"GO_LANG\", None, go_pattern1, go_pattern2)\n",
    "matcher.add(\"CSHARP_LANG\", None, csharp_pattern1, csharp_pattern2, csharp_pattern3)\n",
    "matcher.add(\"FSHARP_LANG\", None, fsharp_pattern1, fsharp_pattern2, fsharp_pattern3)\n",
    "matcher.add(\"JS_LANG\", None, js_pattern)\n",
    "matcher.add(\"JAVA_LANG\", None, java_pattern)\n",
    "matcher.add(\"RUBY_LANG\", None, ruby_pattern)\n",
    "matcher.add(\"SQL_LANG\", None, sql_pattern)\n",
    "matcher.add(\"C_LANG\", None, c_pattern)\n",
    "matcher.add(\"CPP_LANG\", None, cpp_pattern)\n",
    "matcher.add(\"PHP_LANG\", None, php_pattern)\n",
    "matcher.add(\"MATLAB_LANG\", None, matlab_pattern)\n",
    "matcher.add(\"PERL_LANG\", None, perl_pattern)\n",
    "matcher.add(\"LISP_LANG\", None, lisp_pattern1, lisp_pattern2)\n",
    "matcher.add(\"HTML_LANG\", None, html_pattern)\n",
    "matcher.add(\"CSS_LANG\", None, css_pattern)"
   ]
  },
  {
   "cell_type": "markdown",
   "metadata": {},
   "source": [
    "## Actual Labelling"
   ]
  },
  {
   "cell_type": "code",
   "execution_count": 16,
   "metadata": {},
   "outputs": [
    {
     "data": {
      "text/plain": [
       "510"
      ]
     },
     "execution_count": 16,
     "metadata": {},
     "output_type": "execute_result"
    }
   ],
   "source": [
    "titles = (_ for _ in df['Title'][:2000])\n",
    "sum(1 for d in nlp.pipe(titles) if it_matches(d))"
   ]
  },
  {
   "cell_type": "markdown",
   "metadata": {},
   "source": [
    "- I got about 500 labels in 10 minutes while drinking tea. The timing suggests I should be able to do about 2000 in 30-45 minutes. This is soo worth **my** time. No need to wait around and have somebody else label for me. \n",
    "- I also think labelling myself is useful. Labelling isn't super easy per se and it helps me understand the problem a bit better. \n",
    "    - I thought that `.NET` was a programming language but after seeing so many examples during labelling where it said `.NET ASP` and `C# .NET` I figured I'd just check what kind of a language it was. It turns out that it is actually a library and *not* a language. This was a cool lesson.\n",
    "    - Some programming languages have a version number attached. Like `python3`.\n",
    "    - Technically my labelling approach is a bit janky since there can be multiple proglangs in a single title. Made a note of this mentally.\n",
    "    - Be sure to handle labelled files with care. Maybe give different names to de-risk overwriting it. Don't want to loose valuable labels. Also, it helps to turn it into a tab seperated file now because the titles all have commas in it. Excel doesn't play nice all the time.\n",
    "- I figured after 500 rows it'd be a good idea to just check the evaluation thus far. Just to check if there's anything in there that I could check.\n",
    "\n",
    "## Language Version \n",
    "\n",
    "To adress the version number of the language I've made a function to deal with it. It creates many patterns out of a single one."
   ]
  },
  {
   "cell_type": "code",
   "execution_count": 17,
   "metadata": {},
   "outputs": [
    {
     "data": {
      "text/plain": [
       "[[{'LOWER': 'python'}],\n",
       " [{'LOWER': {'REGEX': '(python\\\\d+\\\\.?\\\\d*.?\\\\d*)'}}],\n",
       " [{'LOWER': 'python'}, {'TEXT': {'REGEX': '(\\\\d+\\\\.?\\\\d*.?\\\\d*)'}}]]"
      ]
     },
     "execution_count": 17,
     "metadata": {},
     "output_type": "execute_result"
    }
   ],
   "source": [
    "def create_versioned(name):\n",
    "    return [\n",
    "        [{'LOWER': name}], \n",
    "        [{'LOWER': {'REGEX': f'({name}\\d+\\.?\\d*.?\\d*)'}}], \n",
    "        [{'LOWER': name}, {'TEXT': {'REGEX': '(\\d+\\.?\\d*.?\\d*)'}}],\n",
    "    ]\n",
    "\n",
    "create_versioned('python')"
   ]
  },
  {
   "cell_type": "markdown",
   "metadata": {},
   "source": [
    "You can confirm that it works."
   ]
  },
  {
   "cell_type": "code",
   "execution_count": 18,
   "metadata": {},
   "outputs": [
    {
     "data": {
      "text/html": [
       "<text><text>i</text> <text>use</text> <b style='background-color: #fff59d'><text>python</text></b> <text>,</text> <b style='background-color: #fff59d'><text>python3.7</text></b> <text>,</text> <b style='background-color: #fff59d'><text>python</text></b> <b style='background-color: #fff59d'><text>3.6.6</text></b><br></text><text><text>also</text> <b style='background-color: #fff59d'><text>python3</text></b> <text>,</text> <b style='background-color: #fff59d'><text>python</text></b> <b style='background-color: #fff59d'><text>2</text></b> <text>and</text> <b style='background-color: #fff59d'><text>python3.2.1</text></b><br></text><text><text>not</text> <text>bypython</text> <text>,</text> <text>pythonn</text> <text>and</text> <text>py36</text><br></text>"
      ],
      "text/plain": [
       "<IPython.core.display.HTML object>"
      ]
     },
     "execution_count": 18,
     "metadata": {},
     "output_type": "execute_result"
    }
   ],
   "source": [
    "matcher = Matcher(nlp.vocab, validate=True)\n",
    "matcher.add(\"PYTHON_LANG\", None, *create_versioned('python'))\n",
    "g = nlp.pipe([\"i use python, python3.7, python 3.6.6\", \n",
    "              \"also python3, python 2 and python3.2.1\", \n",
    "              \"not bypython, pythonn and py36\"])\n",
    "html_print(html_generator(g, n=3))"
   ]
  },
  {
   "cell_type": "markdown",
   "metadata": {},
   "source": [
    "# Putting this in a new matcher.\n",
    "\n",
    "Note that I am creating **lots** of patterns here. The downside is that it looks a bit chaotic but the benefit is that it is very easy to add a pattern. It might be good to refactor later on though."
   ]
  },
  {
   "cell_type": "code",
   "execution_count": 19,
   "metadata": {},
   "outputs": [],
   "source": [
    "obj_c_pattern1 = [{'LOWER': 'objective'},\n",
    "                  {'IS_PUNCT': True, 'OP': '?'},\n",
    "                  {'LOWER': 'c'}]\n",
    "obj_c_pattern2 = [{'LOWER': 'objectivec'}]\n",
    "\n",
    "csharp_pattern1 = [{'LOWER': 'c'}, {'LOWER': '#'}]\n",
    "csharp_pattern2 = [{'LOWER': 'c'}, {'LOWER': 'sharp'}]\n",
    "csharp_pattern3 = [{'LOWER': 'c#'}]\n",
    "\n",
    "fsharp_pattern1 = [{'LOWER': 'f'}, {'LOWER': '#'}]\n",
    "fsharp_pattern2 = [{'LOWER': 'f'}, {'LOWER': 'sharp'}]\n",
    "fsharp_pattern3 = [{'LOWER': 'f#'}]\n",
    "\n",
    "lisp_pattern1  = [{'LOWER': 'lisp'}]\n",
    "lisp_pattern2  = [{'LOWER': 'common'}, {'LOWER': 'lisp'}]\n",
    "\n",
    "go_pattern1    = [{'LOWER': 'go', 'POS': {'NOT_IN': ['VERB']}}]\n",
    "go_pattern2    = [{'LOWER': 'golang'}]\n",
    "\n",
    "html_pattern   = [{'LOWER': 'html'}]\n",
    "css_pattern    = [{'LOWER': 'css'}]\n",
    "sql_pattern    = [{'LOWER': 'sql'}]\n",
    "js_pattern     = [{'LOWER': {'IN': ['js', 'javascript']}}]\n",
    "\n",
    "cpp_pattern    = [{'LOWER': 'c++'}]\n",
    "\n",
    "\n",
    "versioned_languages = ['ruby', 'php', 'python', 'perl', 'java', 'haskell', \n",
    "                       'scala', 'c', 'cpp', 'matlab', 'bash', 'delphi']\n",
    "flatten = lambda l: [item for sublist in l for item in sublist]\n",
    "versioned_patterns = flatten([create_versioned(lang) for lang in versioned_languages])\n",
    "\n",
    "matcher = Matcher(nlp.vocab, validate=True)\n",
    "matcher.add(\"PROG_LANG\", None, \n",
    "            obj_c_pattern1, obj_c_pattern2,\n",
    "            go_pattern1, go_pattern2,\n",
    "            lisp_pattern1, lisp_pattern2,\n",
    "            csharp_pattern1, csharp_pattern2, csharp_pattern3,\n",
    "            fsharp_pattern1, fsharp_pattern2, fsharp_pattern3,\n",
    "            html_pattern, css_pattern, sql_pattern, js_pattern,\n",
    "            cpp_pattern, *versioned_patterns)"
   ]
  },
  {
   "cell_type": "markdown",
   "metadata": {},
   "source": [
    "# On to evaluating\n",
    "\n",
    "I am using `sklearn` (an amazing library) such that I don't have to write boilerplate code."
   ]
  },
  {
   "cell_type": "code",
   "execution_count": 55,
   "metadata": {},
   "outputs": [],
   "source": [
    "import numpy as np\n",
    "from sklearn.metrics import confusion_matrix, classification_report\n",
    "\n",
    "label_df = (pd.read_csv('have_label.txt', delimiter=\"\\t\")[['Label', 'Title']]\n",
    " .iloc[:968]\n",
    " .assign(Pred=lambda d: [len(matcher(d)) > 0 for d in nlp.pipe(d['Title'])])\n",
    " .assign(Label=lambda d: d['Label'].astype(np.int8))\n",
    " .assign(Pred=lambda d: d['Pred'].astype(np.int8)))"
   ]
  },
  {
   "cell_type": "markdown",
   "metadata": {},
   "source": [
    "This is the confusion matrix.\n",
    "\n",
    "<img src=\"images/confusion.png\" width=400>"
   ]
  },
  {
   "cell_type": "code",
   "execution_count": 56,
   "metadata": {},
   "outputs": [
    {
     "data": {
      "text/plain": [
       "array([[711,  30],\n",
       "       [  2, 225]])"
      ]
     },
     "execution_count": 56,
     "metadata": {},
     "output_type": "execute_result"
    }
   ],
   "source": [
    "confusion_matrix(label_df['Label'], label_df['Pred'])"
   ]
  },
  {
   "cell_type": "markdown",
   "metadata": {},
   "source": [
    "### Before\n",
    "\n",
    "```\n",
    "              precision    recall  f1-score   support\n",
    "\n",
    "           0       1.00      0.95      0.97       396\n",
    "           1       0.83      0.99      0.91       106\n",
    "\n",
    "    accuracy                           0.96       502\n",
    "   macro avg       0.92      0.97      0.94       502\n",
    "weighted avg       0.96      0.96      0.96       502\n",
    "```\n",
    "\n",
    "## After \n",
    "\n",
    "the improvements seem to have had an effect."
   ]
  },
  {
   "cell_type": "code",
   "execution_count": 58,
   "metadata": {},
   "outputs": [
    {
     "name": "stdout",
     "output_type": "stream",
     "text": [
      "              precision    recall  f1-score   support\n",
      "\n",
      "           0       1.00      0.96      0.98       741\n",
      "           1       0.88      0.99      0.93       227\n",
      "\n",
      "    accuracy                           0.97       968\n",
      "   macro avg       0.94      0.98      0.96       968\n",
      "weighted avg       0.97      0.97      0.97       968\n",
      "\n"
     ]
    }
   ],
   "source": [
    "print(classification_report(label_df['Label'], label_df['Pred']))"
   ]
  },
  {
   "cell_type": "markdown",
   "metadata": {},
   "source": [
    "This summary lists two important metrics; precision and recall.\n",
    "\n",
    "<img src=\"images/prerec.png\" width=500>\n",
    "\n",
    "There's another one listed which is a weighted combination of the two.\n",
    "\n",
    "<img src=\"images/f1.png\" width=500>\n",
    "\n",
    "A few extra notes:\n",
    "\n",
    "- **support** is merely the number of examples in a class\n",
    "- **macro avg** is just the average of the two metrics\n",
    "- **weighted avg** is the weighted average of the two metrics weighted by support"
   ]
  },
  {
   "cell_type": "code",
   "execution_count": 50,
   "metadata": {},
   "outputs": [
    {
     "data": {
      "text/html": [
       "<text><text>Deploying</text> <b style='background-color: #fff59d'><text>SQL</text></b> <text>Server</text> <text>Databases</text> <text>from</text> <text>Test</text> <text>to</text> <text>Live</text><br></text><text><text>Is</text> <text>Windows</text> <text>Server</text> <text>2008</text> <text>\"</text> <text>Server</text> <text>Core</text> <text>\"</text> <text>appropriate</text> <text>for</text> <text>a</text> <b style='background-color: #fff59d'><text>SQL</text></b> <text>Server</text> <text>instance</text> <text>?</text><br></text><text><text>Paging</text> <b style='background-color: #fff59d'><text>SQL</text></b> <text>Server</text> <text>2005</text> <text>Results</text><br></text><text><text>How</text> <text>do</text> <text>you</text> <text>get</text> <text>leading</text> <text>wildcard</text> <text>full</text> <text>-</text> <text>text</text> <text>searches</text> <text>to</text> <text>work</text> <text>in</text> <b style='background-color: #fff59d'><text>SQL</text></b> <text>Server</text> <text>?</text><br></text><text><b style='background-color: #fff59d'><text>SQL</text></b> <text>Server</text> <text>Management</text> <text>Studio</text> <text>alternatives</text> <text>to</text> <text>browse</text> <text>/</text> <text>edit</text> <text>tables</text> <text>and</text> <text>run</text> <text>queries</text><br></text><text><text>What</text> <text>version</text> <text>of</text> <text>.Net</text> <text>framework</text> <text>ships</text> <text>with</text> <b style='background-color: #fff59d'><text>SQL</text></b> <text>Server</text> <text>2008</text> <text>?</text><br></text><text><text>How</text> <text>do</text> <text>you</text> <text>kill</text> <text>all</text> <text>current</text> <text>connections</text> <text>to</text> <text>a</text> <b style='background-color: #fff59d'><text>SQL</text></b> <text>Server</text> <text>2005</text> <text>database</text> <text>?</text><br></text><text><text>Insert</text> <text>Update</text> <text>stored</text> <text>proc</text> <text>on</text> <b style='background-color: #fff59d'><text>SQL</text></b> <text>Server</text><br></text><text><text>LINQ</text> <text>-</text> <text>to</text> <text>-</text> <b style='background-color: #fff59d'><text>SQL</text></b> <text>vs</text> <text>stored</text> <text>procedures</text> <text>?</text><br></text><text><text>Changing</text> <text>CURRENT</text> <text>save</text> <text>/</text> <text>default</text> <text>directory</text> <text>in</text> <b style='background-color: #fff59d'><text>Delphi</text></b> <b style='background-color: #fff59d'><text>2007</text></b> <text>without</text> <text>using</text> <text>Save</text> <text>-</text> <text>As</text><br></text><text><text>Optimizing</text> <text>the</text> <text>PDF</text> <text>Export</text> <text>of</text> <text>Huge</text> <text>Reports</text> <text>in</text> <b style='background-color: #fff59d'><text>Sql</text></b> <text>Reporting</text> <text>Services</text> <text>2005</text><br></text><text><b style='background-color: #fff59d'><text>SQL</text></b> <text>Server</text> <text>-</text> <text>Dirty</text> <text>Reads</text> <text>Pros</text> <text>&</text> <text>Cons</text><br></text><text><b style='background-color: #fff59d'><text>SQL</text></b> <text>Server</text> <text>:</text> <text>Examples</text> <text>of</text> <text>PIVOTing</text> <text>String</text> <text>data</text><br></text><text><b style='background-color: #fff59d'><text>SQL</text></b> <text>Server</text> <text>DateTime</text> <text>conversion</text> <text>failure</text><br></text><text><text>Can</text> <text>I</text> <text>maintain</text> <text>state</text> <text>between</text> <text>calls</text> <text>to</text> <text>a</text> <b style='background-color: #fff59d'><text>SQL</text></b> <text>Server</text> <text>UDF</text> <text>?</text><br></text><text><text>Sending</text> <text>e</text> <text>-</text> <text>mail</text> <text>from</text> <text>a</text> <text>Custom</text> <b style='background-color: #fff59d'><text>SQL</text></b> <text>Server</text> <text>Reporting</text> <text>Services</text> <text>Delivery</text> <text>Extension</text><br></text><text><b style='background-color: #fff59d'><text>SQL</text></b> <text>Server</text> <text>2003</text> <text>internet</text> <text>connection</text><br></text><text><text>Best</text> <text>GUI</text> <text>tool</text> <text>for</text> <text>documenting</text> <text>a</text> <b style='background-color: #fff59d'><text>SQL</text></b> <text>Server</text> <text>DB</text><br></text><text><text>\"</text> <text>Similar</text> <text>Posts</text> <text>\"</text> <text>like</text> <text>functionality</text> <text>using</text> <text>MS</text> <b style='background-color: #fff59d'><text>SQL</text></b> <text>Server</text> <text>?</text><br></text><text><b style='background-color: #fff59d'><text>SQL</text></b> <text>Server</text> <text>Views</text> <text>,</text> <text>blessing</text> <text>or</text> <text>curse</text> <text>?</text><br></text><text><text>Custom</text> <text>Aggregate</text> <text>Functions</text> <text>in</text> <text>MS</text> <b style='background-color: #fff59d'><text>SQL</text></b> <text>Server</text> <text>?</text><br></text><text><text>Best</text> <b style='background-color: #fff59d'><text>Ruby</text></b> <text>on</text> <text>Rails</text> <text>social</text> <text>networking</text> <text>framework</text><br></text><text><b style='background-color: #fff59d'><text>SQL</text></b> <text>Server</text> <text>best</text> <text>way</text> <text>to</text> <text>calculate</text> <text>datediff</text> <text>between</text> <text>current</text> <text>row</text> <text>and</text> <text>next</text> <text>row</text> <text>?</text><br></text><text><text>Bespoke</text> <b style='background-color: #fff59d'><text>SQL</text></b> <text>Server</text> <text>'</text> <text>encoding</text> <text>'</text> <text>sproc</text> <text>-</text> <text>is</text> <text>there</text> <text>a</text> <text>neater</text> <text>way</text> <text>of</text> <text>doing</text> <text>this</text> <text>?</text><br></text><text><text>DELETE</text> <text>Statement</text> <text>hangs</text> <text>on</text> <b style='background-color: #fff59d'><text>SQL</text></b> <text>Server</text> <text>for</text> <text>no</text> <text>apparent</text> <text>reason</text><br></text><text><text>Right</text> <text>Align</text> <text>text</text> <text>in</text> <b style='background-color: #fff59d'><text>SQL</text></b> <text>Server</text><br></text><text><text>What</text> <text>'s</text> <text>the</text> <text>bare</text> <text>minimum</text> <text>permission</text> <text>set</text> <text>for</text> <b style='background-color: #fff59d'><text>Sql</text></b> <text>Server</text> <text>2005</text> <text>services</text> <text>?</text><br></text><text><text>Access</text> <text>to</text> <text>Result</text> <text>sets</text> <text>from</text> <text>within</text> <text>Stored</text> <text>procedures</text> <text>Transact</text> <text>-</text> <b style='background-color: #fff59d'><text>SQL</text></b> <b style='background-color: #fff59d'><text>SQL</text></b> <text>Server</text><br></text><text><text>Best</text> <text>way</text> <text>to</text> <text>transfer</text> <text>an</text> <text>xml</text> <text>to</text> <b style='background-color: #fff59d'><text>SQL</text></b> <text>Server</text> <text>?</text><br></text><text><text>How</text> <text>to</text> <text>determine</text> <text>the</text> <text>value</text> <text>of</text> <text>a</text> <text>controller</text> <text>variable</text> <text>during</text> <text>execution</text> <text>in</text> <b style='background-color: #fff59d'><text>Ruby</text></b> <text>on</text> <text>Rails</text> <text>?</text><br></text><text><text>How</text> <text>to</text> <text>save</text> <text>jpg</text> <text>image</text> <text>to</text> <text>database</text> <text>and</text> <text>then</text> <text>load</text> <text>it</text> <text>in</text> <b style='background-color: #fff59d'><text>Delphi</text></b> <text>using</text> <text>FIBplus</text> <text>and</text> <text>TImage</text> <text>?</text><br></text><text><text>Importing</text> <text>Access</text> <text>data</text> <text>into</text> <b style='background-color: #fff59d'><text>SQL</text></b> <text>Server</text> <text>using</text> <text>ColdFusion</text><br></text><text><text>Locked</text> <b style='background-color: #fff59d'><text>SQL</text></b> <text>Server</text> <text>Data</text> <text>Files</text><br></text>"
      ],
      "text/plain": [
       "<IPython.core.display.HTML object>"
      ]
     },
     "execution_count": 50,
     "metadata": {},
     "output_type": "execute_result"
    }
   ],
   "source": [
    "mistakes = (label_df\n",
    "            .loc[lambda d: d['Pred'] == 1]\n",
    "            .loc[lambda d: d['Label'] == 0]\n",
    "            ['Title'])\n",
    "\n",
    "html_print(html_generator((nlp(i) for i in mistakes), n=21))"
   ]
  },
  {
   "cell_type": "markdown",
   "metadata": {},
   "source": [
    "This `SQL Server` stuff is something to keep in mind. Still, I am happy with the lessons learned sofar. "
   ]
  }
 ],
 "metadata": {
  "kernelspec": {
   "display_name": "Python 3",
   "language": "python",
   "name": "python3"
  },
  "language_info": {
   "codemirror_mode": {
    "name": "ipython",
    "version": 3
   },
   "file_extension": ".py",
   "mimetype": "text/x-python",
   "name": "python",
   "nbconvert_exporter": "python",
   "pygments_lexer": "ipython3",
   "version": "3.7.4"
  }
 },
 "nbformat": 4,
 "nbformat_minor": 4
}

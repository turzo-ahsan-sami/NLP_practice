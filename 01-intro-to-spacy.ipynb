{
 "cells": [
  {
   "cell_type": "markdown",
   "metadata": {},
   "source": [
    "## Start\n",
    "Dataset https://www.kaggle.com/stackoverflow/stacksample\n"
   ]
  },
  {
   "cell_type": "code",
   "execution_count": 1,
   "metadata": {},
   "outputs": [],
   "source": [
    "import pandas as pd\n",
    "\n",
    "df = (pd.read_csv(\"Questions.csv\", nrows=1_000_000, \n",
    "                  encoding=\"ISO-8859-1\", usecols=['Title', 'Id']))\n",
    "titles = [_ for _ in df['Title']]"
   ]
  },
  {
   "cell_type": "code",
   "execution_count": 15,
   "metadata": {},
   "outputs": [
    {
     "data": {
      "text/plain": [
       "['Where does Console.WriteLine go in ASP.NET?',\n",
       " 'Should try...catch go inside or outside a loop?',\n",
       " 'Way to go from recursion to iteration',\n",
       " 'When are API methods marked \"deprecated\" actually going to go away?',\n",
       " 'How to go to main stack',\n",
       " 'In Mac OS X, is there a programmatic way to get the machine to go to sleep/hibernate?',\n",
       " 'Is .NET already the right way to go for small app development?',\n",
       " 'Should I use Java date and time classes or go with a 3rd party library like Joda Time?',\n",
       " 'Make multiple monitors go to sleep with Windows API?',\n",
       " 'Where to go to browse for open source projects to work on?']"
      ]
     },
     "execution_count": 15,
     "metadata": {},
     "output_type": "execute_result"
    }
   ],
   "source": [
    "def has_golang(text):\n",
    "    return \" go \" in text\n",
    "\n",
    "g = (title for title in titles if has_golang(title))\n",
    "[next(g) for i in range(10)]"
   ]
  },
  {
   "cell_type": "markdown",
   "metadata": {},
   "source": [
    "install spacy\n",
    "```\n",
    "python -m spacy download en_core_web_sm\n",
    "```"
   ]
  },
  {
   "cell_type": "code",
   "execution_count": 6,
   "metadata": {},
   "outputs": [],
   "source": [
    "import spacy \n",
    "\n",
    "nlp = spacy.load(\"en_core_web_sm\")"
   ]
  },
  {
   "cell_type": "code",
   "execution_count": 8,
   "metadata": {},
   "outputs": [],
   "source": [
    "doc = nlp(\"My name is Vincent.\")"
   ]
  },
  {
   "cell_type": "code",
   "execution_count": 9,
   "metadata": {},
   "outputs": [],
   "source": [
    "t = doc[0]"
   ]
  },
  {
   "cell_type": "code",
   "execution_count": 10,
   "metadata": {},
   "outputs": [
    {
     "data": {
      "text/html": [
       "<svg xmlns=\"http://www.w3.org/2000/svg\" xmlns:xlink=\"http://www.w3.org/1999/xlink\" xml:lang=\"en\" id=\"2bb67fcd8ee446d28d575c634cba19de-0\" class=\"displacy\" width=\"750\" height=\"224.5\" direction=\"ltr\" style=\"max-width: none; height: 224.5px; color: #000000; background: #ffffff; font-family: Arial; direction: ltr\">\n",
       "<text class=\"displacy-token\" fill=\"currentColor\" text-anchor=\"middle\" y=\"134.5\">\n",
       "    <tspan class=\"displacy-word\" fill=\"currentColor\" x=\"50\">My</tspan>\n",
       "    <tspan class=\"displacy-tag\" dy=\"2em\" fill=\"currentColor\" x=\"50\">DET</tspan>\n",
       "</text>\n",
       "\n",
       "<text class=\"displacy-token\" fill=\"currentColor\" text-anchor=\"middle\" y=\"134.5\">\n",
       "    <tspan class=\"displacy-word\" fill=\"currentColor\" x=\"225\">name</tspan>\n",
       "    <tspan class=\"displacy-tag\" dy=\"2em\" fill=\"currentColor\" x=\"225\">NOUN</tspan>\n",
       "</text>\n",
       "\n",
       "<text class=\"displacy-token\" fill=\"currentColor\" text-anchor=\"middle\" y=\"134.5\">\n",
       "    <tspan class=\"displacy-word\" fill=\"currentColor\" x=\"400\">is</tspan>\n",
       "    <tspan class=\"displacy-tag\" dy=\"2em\" fill=\"currentColor\" x=\"400\">VERB</tspan>\n",
       "</text>\n",
       "\n",
       "<text class=\"displacy-token\" fill=\"currentColor\" text-anchor=\"middle\" y=\"134.5\">\n",
       "    <tspan class=\"displacy-word\" fill=\"currentColor\" x=\"575\">Vincent.</tspan>\n",
       "    <tspan class=\"displacy-tag\" dy=\"2em\" fill=\"currentColor\" x=\"575\">PROPN</tspan>\n",
       "</text>\n",
       "\n",
       "<g class=\"displacy-arrow\">\n",
       "    <path class=\"displacy-arc\" id=\"arrow-2bb67fcd8ee446d28d575c634cba19de-0-0\" stroke-width=\"2px\" d=\"M70,89.5 C70,2.0 225.0,2.0 225.0,89.5\" fill=\"none\" stroke=\"currentColor\"/>\n",
       "    <text dy=\"1.25em\" style=\"font-size: 0.8em; letter-spacing: 1px\">\n",
       "        <textPath xlink:href=\"#arrow-2bb67fcd8ee446d28d575c634cba19de-0-0\" class=\"displacy-label\" startOffset=\"50%\" side=\"left\" fill=\"currentColor\" text-anchor=\"middle\">poss</textPath>\n",
       "    </text>\n",
       "    <path class=\"displacy-arrowhead\" d=\"M70,91.5 L62,79.5 78,79.5\" fill=\"currentColor\"/>\n",
       "</g>\n",
       "\n",
       "<g class=\"displacy-arrow\">\n",
       "    <path class=\"displacy-arc\" id=\"arrow-2bb67fcd8ee446d28d575c634cba19de-0-1\" stroke-width=\"2px\" d=\"M245,89.5 C245,2.0 400.0,2.0 400.0,89.5\" fill=\"none\" stroke=\"currentColor\"/>\n",
       "    <text dy=\"1.25em\" style=\"font-size: 0.8em; letter-spacing: 1px\">\n",
       "        <textPath xlink:href=\"#arrow-2bb67fcd8ee446d28d575c634cba19de-0-1\" class=\"displacy-label\" startOffset=\"50%\" side=\"left\" fill=\"currentColor\" text-anchor=\"middle\">nsubj</textPath>\n",
       "    </text>\n",
       "    <path class=\"displacy-arrowhead\" d=\"M245,91.5 L237,79.5 253,79.5\" fill=\"currentColor\"/>\n",
       "</g>\n",
       "\n",
       "<g class=\"displacy-arrow\">\n",
       "    <path class=\"displacy-arc\" id=\"arrow-2bb67fcd8ee446d28d575c634cba19de-0-2\" stroke-width=\"2px\" d=\"M420,89.5 C420,2.0 575.0,2.0 575.0,89.5\" fill=\"none\" stroke=\"currentColor\"/>\n",
       "    <text dy=\"1.25em\" style=\"font-size: 0.8em; letter-spacing: 1px\">\n",
       "        <textPath xlink:href=\"#arrow-2bb67fcd8ee446d28d575c634cba19de-0-2\" class=\"displacy-label\" startOffset=\"50%\" side=\"left\" fill=\"currentColor\" text-anchor=\"middle\">attr</textPath>\n",
       "    </text>\n",
       "    <path class=\"displacy-arrowhead\" d=\"M575.0,91.5 L583.0,79.5 567.0,79.5\" fill=\"currentColor\"/>\n",
       "</g>\n",
       "</svg>"
      ],
      "text/plain": [
       "<IPython.core.display.HTML object>"
      ]
     },
     "metadata": {},
     "output_type": "display_data"
    }
   ],
   "source": [
    "from spacy import displacy\n",
    "\n",
    "displacy.render(doc)"
   ]
  },
  {
   "cell_type": "code",
   "execution_count": 19,
   "metadata": {},
   "outputs": [
    {
     "name": "stdout",
     "output_type": "stream",
     "text": [
      "Where ADV advmod\n",
      "to PART aux\n",
      "go VERB csubj\n",
      "to ADP aux\n",
      "browse NOUN advcl\n",
      "for ADP prep\n",
      "open ADJ amod\n",
      "source NOUN pobj\n",
      "go VERB ROOT\n",
      "projects NOUN dobj\n",
      "to PART aux\n",
      "work VERB relcl\n",
      "on ADP prep\n",
      "? PUNCT punct\n",
      "---------------------------------------\n",
      "Where ADV advmod\n",
      "does AUX aux\n",
      "the DET det\n",
      "installed VERB amod\n",
      "API NOUN compound\n",
      "library NOUN nsubj\n",
      "for ADP prep\n",
      "Go PROPN pobj\n",
      "go VERB ROOT\n",
      "? PUNCT punct\n"
     ]
    }
   ],
   "source": [
    "for t in nlp(\"Where to go to browse for open source go projects to work on?\"):\n",
    "    print(t, t.pos_, t.dep_)\n",
    "\n",
    "print(\"---------------------------------------\")\n",
    "    \n",
    "for t in nlp(\"Where does the installed API library for Go go?\"):\n",
    "    print(t, t.pos_, t.dep_)"
   ]
  },
  {
   "cell_type": "markdown",
   "metadata": {},
   "source": []
  },
  {
   "cell_type": "code",
   "execution_count": 12,
   "metadata": {},
   "outputs": [],
   "source": [
    "nlp = spacy.load(\"en_core_web_sm\")"
   ]
  },
  {
   "cell_type": "code",
   "execution_count": 13,
   "metadata": {},
   "outputs": [],
   "source": [
    "df = (pd.read_csv(\"Questions.csv\", nrows=2_000_000, \n",
    "                  encoding=\"ISO-8859-1\", usecols=['Title', 'Id']))\n",
    "\n",
    "titles = [_ for _ in df.loc[lambda d: d['Title'].str.lower().str.contains(\"go\")]['Title']]"
   ]
  },
  {
   "cell_type": "code",
   "execution_count": 20,
   "metadata": {},
   "outputs": [],
   "source": [
    "nlp = spacy.load(\"en_core_web_sm\", disable=[\"ner\"])"
   ]
  },
  {
   "cell_type": "code",
   "execution_count": 20,
   "metadata": {},
   "outputs": [
    {
     "data": {
      "text/plain": [
       "[Can I append an Ajax requestXML object to my document tree all in one go?,\n",
       " Deploying multiple Java web apps to Glassfish in one go,\n",
       " Removing all event handlers in one go,\n",
       " Paypal integration to serve multiple sellers in one go for a shopping site,\n",
       " How to Create a Dropdown List Hyperlink without the GO button?,\n",
       " How do I disable multiple listboxes in one go using jQuery?,\n",
       " Trouble reading from a socket in go,\n",
       " Where is App.config go after publishing?,\n",
       " SOAPUI & Groovy Scripts, executing multiple SQL statements in one go,\n",
       " What's the simplest way to edit conflicted files in one go when using git and an editor like Vim or textmate?,\n",
       " Import large chunk of data into Google App Engine Data Store at one go,\n",
       " How many records can be loaded into Salesforce using Apex Data Loader in one go?,\n",
       " viewdidappear not called on 2nd go round,\n",
       " How can I run multiple inserts with NHibernate in one go?,\n",
       " Letting go of auto_ptr,\n",
       " Saving all nested form objects in one go,\n",
       " Decrypt many PDFs in one go using pdftk,\n",
       " How do I allocate memory for an array in the go programming language?,\n",
       " Where does the return value of called fn go when ignored?,\n",
       " What's wrong with the following go code that I receive 'all goroutines are asleep - deadlock!',\n",
       " Facebook registration - skip Go To app,\n",
       " throw all goroutines are asleep - deadlock! ------- Error in Google's GO,\n",
       " Pass variables into Thread on the go?,\n",
       " If two options are the same go to next option in second select,\n",
       " Flowplayer progrss bar go fullwidth,\n",
       " C macro define many variables in one go,\n",
       " Update 30 fields in a table in one go,\n",
       " How to clone an element and insert it multiple times in one go?,\n",
       " How to use LevelDB in go?,\n",
       " Change EOL on multiple files in one go]"
      ]
     },
     "execution_count": 20,
     "metadata": {},
     "output_type": "execute_result"
    }
   ],
   "source": [
    "def has_golang(doc):\n",
    "    for t in doc:\n",
    "        if t.lower_ in [\"go\", \"golang\"]:\n",
    "            if t.pos_ == \"NOUN\":\n",
    "                return True \n",
    "    return False\n",
    "\n",
    "g = (doc for doc in nlp.pipe(titles) if has_golang(doc))\n",
    "[next(g) for i in range(30)]"
   ]
  },
  {
   "cell_type": "markdown",
   "metadata": {},
   "source": []
  },
  {
   "cell_type": "code",
   "execution_count": 21,
   "metadata": {},
   "outputs": [
    {
     "data": {
      "text/plain": [
       "(1858, 892, 102)"
      ]
     },
     "execution_count": 21,
     "metadata": {},
     "output_type": "execute_result"
    }
   ],
   "source": [
    "df_tags = pd.read_csv(\"Tags.csv\")\n",
    "go_ids = df_tags.loc[lambda d: d['Tag'] == 'go']['Id']\n",
    "\n",
    "def has_go_token(doc):\n",
    "    for t in doc:\n",
    "        if t.lower_ in ['go', 'golang']:\n",
    "            if t.pos_ != 'VERB':\n",
    "                return True\n",
    "    return False\n",
    "\n",
    "all_go_sentences = df.loc[lambda d: d['Id'].isin(go_ids)]['Title'].tolist()\n",
    "detectable = [d.text for d in nlp.pipe(all_go_sentences) if has_go_token(d)]\n",
    "\n",
    "non_detectable = (df\n",
    "                  .loc[lambda d: ~d['Id'].isin(go_ids)]\n",
    "                  .loc[lambda d: d['Title'].str.lower().str.contains(\"go\")]\n",
    "                  ['Title']\n",
    "                  .tolist())\n",
    "\n",
    "non_detectable = [d.text for d in nlp.pipe(non_detectable) if has_go_token(d)]\n",
    "\n",
    "len(all_go_sentences), len(detectable), len(non_detectable)"
   ]
  },
  {
   "cell_type": "markdown",
   "metadata": {},
   "source": []
  },
  {
   "cell_type": "code",
   "execution_count": 5,
   "metadata": {},
   "outputs": [
    {
     "ename": "NameError",
     "evalue": "name 'nlp' is not defined",
     "output_type": "error",
     "traceback": [
      "\u001b[1;31m---------------------------------------------------------------------------\u001b[0m",
      "\u001b[1;31mNameError\u001b[0m                                 Traceback (most recent call last)",
      "\u001b[1;32m<ipython-input-5-9607a284e379>\u001b[0m in \u001b[0;36m<module>\u001b[1;34m\u001b[0m\n\u001b[0;32m     23\u001b[0m \u001b[1;33m\u001b[0m\u001b[0m\n\u001b[0;32m     24\u001b[0m \u001b[0mall_go_sentences\u001b[0m \u001b[1;33m=\u001b[0m \u001b[0mdf\u001b[0m\u001b[1;33m.\u001b[0m\u001b[0mloc\u001b[0m\u001b[1;33m[\u001b[0m\u001b[1;32mlambda\u001b[0m \u001b[0md\u001b[0m\u001b[1;33m:\u001b[0m \u001b[0md\u001b[0m\u001b[1;33m[\u001b[0m\u001b[1;34m'Id'\u001b[0m\u001b[1;33m]\u001b[0m\u001b[1;33m.\u001b[0m\u001b[0misin\u001b[0m\u001b[1;33m(\u001b[0m\u001b[0mgo_ids\u001b[0m\u001b[1;33m)\u001b[0m\u001b[1;33m]\u001b[0m\u001b[1;33m[\u001b[0m\u001b[1;34m'Title'\u001b[0m\u001b[1;33m]\u001b[0m\u001b[1;33m.\u001b[0m\u001b[0mtolist\u001b[0m\u001b[1;33m(\u001b[0m\u001b[1;33m)\u001b[0m\u001b[1;33m\u001b[0m\u001b[1;33m\u001b[0m\u001b[0m\n\u001b[1;32m---> 25\u001b[1;33m \u001b[0mdetectable\u001b[0m \u001b[1;33m=\u001b[0m \u001b[1;33m[\u001b[0m\u001b[0md\u001b[0m\u001b[1;33m.\u001b[0m\u001b[0mtext\u001b[0m \u001b[1;32mfor\u001b[0m \u001b[0md\u001b[0m \u001b[1;32min\u001b[0m \u001b[0mnlp\u001b[0m\u001b[1;33m.\u001b[0m\u001b[0mpipe\u001b[0m\u001b[1;33m(\u001b[0m\u001b[0mall_go_sentences\u001b[0m\u001b[1;33m)\u001b[0m \u001b[1;32mif\u001b[0m \u001b[0mhas_go_token\u001b[0m\u001b[1;33m(\u001b[0m\u001b[0md\u001b[0m\u001b[1;33m)\u001b[0m\u001b[1;33m]\u001b[0m\u001b[1;33m\u001b[0m\u001b[1;33m\u001b[0m\u001b[0m\n\u001b[0m\u001b[0;32m     26\u001b[0m \u001b[1;33m\u001b[0m\u001b[0m\n\u001b[0;32m     27\u001b[0m non_detectable = (df\n",
      "\u001b[1;31mNameError\u001b[0m: name 'nlp' is not defined"
     ]
    }
   ],
   "source": [
    "import pandas as pd\n",
    "import spacy \n",
    "\n",
    "def has_go_token(doc):\n",
    "    for t in doc:\n",
    "        if t.lower_ in [\"go\", \"golang\"]:\n",
    "            if t.pos_ != \"VERB\":\n",
    "                return True\n",
    "    return False\n",
    "\n",
    "\n",
    "model_name = \"en_core_web_sm\"\n",
    "model = spacy.load(model_name, disable=[\"ner\"])\n",
    "method = \"not-verb-but-pobj\"\n",
    "\n",
    "df = (pd.read_csv(\"Questions.csv\", nrows=2_000_000, \n",
    "                  encoding=\"ISO-8859-1\", usecols=['Title', 'Id']))\n",
    "\n",
    "titles = [_ for _ in df.loc[lambda d: d['Title'].str.lower().str.contains(\"go\")]['Title']]\n",
    "\n",
    "df_tags = pd.read_csv(\"Tags.csv\")\n",
    "go_ids = df_tags.loc[lambda d: d['Tag'] == 'go']['Id']\n",
    "\n",
    "all_go_sentences = df.loc[lambda d: d['Id'].isin(go_ids)]['Title'].tolist()\n",
    "detectable = [d.text for d in nlp.pipe(all_go_sentences) if has_go_token(d)]\n",
    "\n",
    "non_detectable = (df\n",
    "                  .loc[lambda d: ~d['Id'].isin(go_ids)]\n",
    "                  .loc[lambda d: d['Title'].str.lower().str.contains(\"go\")]\n",
    "                  ['Title']\n",
    "                  .tolist())\n",
    "\n",
    "non_detectable = [d.text for d in nlp.pipe(non_detectable) if has_go_token(d)]\n",
    "\n",
    "\n",
    "\n",
    "correct = sum(has_go_token(doc) for doc in model.pipe(detectable))\n",
    "wrong = sum(has_go_token(doc) for doc in model.pipe(non_detectable))\n",
    "precision = correct/(correct + wrong)\n",
    "recall = correct/len(detectable)\n",
    "accuracy = (correct + len(non_detectable) - wrong)/(len(detectable) + len(non_detectable))\n",
    "\n",
    "f\"{precision},{recall},{accuracy},{model_name},{method}\" # this is logged"
   ]
  },
  {
   "cell_type": "markdown",
   "metadata": {},
   "source": []
  }
 ],
 "metadata": {
  "kernelspec": {
   "display_name": "Python 3",
   "language": "python",
   "name": "python3"
  },
  "language_info": {
   "codemirror_mode": {
    "name": "ipython",
    "version": 3
   },
   "file_extension": ".py",
   "mimetype": "text/x-python",
   "name": "python",
   "nbconvert_exporter": "python",
   "pygments_lexer": "ipython3",
   "version": "3.7.4"
  }
 },
 "nbformat": 4,
 "nbformat_minor": 4
}
